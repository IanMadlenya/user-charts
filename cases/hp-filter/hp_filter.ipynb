{
 "cells": [
  {
   "cell_type": "code",
   "execution_count": 1,
   "metadata": {
    "collapsed": true
   },
   "outputs": [],
   "source": [
    "import datetime\n",
    "import matplotlib.pyplot as plt\n",
    "import pandas as pd\n",
    "import seaborn as sns\n",
    "\n",
    "%matplotlib inline\n",
    "\n",
    "import requests\n",
    "\n",
    "\n",
    "def fetch_json(url):\n",
    "    return requests.get(url).json()    \n",
    "\n",
    "def get_freq():\n",
    "    url = 'http://minikep-db.herokuapp.com/api/freq'\n",
    "    return fetch_json(url)\n",
    "\n",
    "def get_names(freq):\n",
    "    url = 'http://minikep-db.herokuapp.com/api/names/{}'.format(freq)\n",
    "    return fetch_json(url)\n",
    "\n",
    "def make_url(freq, name, format):    \n",
    "    return ('https://minikep-db.herokuapp.com/api/datapoints'\n",
    "            '?name={}&freq={}&format={}'.format(name, freq, format))\n",
    "\n",
    "def get_datapoints(freq, name):\n",
    "    url = make_url(freq, name, 'json') \n",
    "    return fetch_json(url)\n",
    "    \n",
    "def read_from_url(url):\n",
    "    \"\"\"Read pandas time series from *source_url*.\"\"\"\n",
    "    return pd.read_csv(url, converters={0: pd.to_datetime}, index_col=0, squeeze=True)\n",
    " \n",
    "def get_ts(freq, name):  \n",
    "    url = make_url(freq, name, 'csv')\n",
    "    return read_from_url(url)\n",
    "    \n",
    "def get_df_by_names(freq, names):\n",
    "    df_list = [get_ts(freq, name).to_frame() for name in names]\n",
    "    df = df_list[0]\n",
    "    for right_df in df_list[1:]:\n",
    "       df = df.join(right_df, how='outer')\n",
    "    return df  \n",
    "\n",
    "def get_df(freq):\n",
    "    names = get_names(freq)\n",
    "    return get_df_by_names(freq, names)"
   ]
  },
  {
   "cell_type": "code",
   "execution_count": 2,
   "metadata": {
    "scrolled": true
   },
   "outputs": [
    {
     "name": "stdout",
     "output_type": "stream",
     "text": [
      "Index(['CPI_ALCOHOL_rog', 'CPI_FOOD_rog', 'CPI_NONFOOD_rog', 'CPI_rog',\n",
      "       'CPI_SERVICES_rog', 'EXPORT_GOODS_bln_usd', 'GDP_bln_rub', 'GDP_yoy',\n",
      "       'GOV_EXPENSE_ACCUM_CONSOLIDATED_bln_rub',\n",
      "       'GOV_EXPENSE_ACCUM_FEDERAL_bln_rub',\n",
      "       'GOV_EXPENSE_ACCUM_SUBFEDERAL_bln_rub',\n",
      "       'GOV_REVENUE_ACCUM_CONSOLIDATED_bln_rub',\n",
      "       'GOV_REVENUE_ACCUM_FEDERAL_bln_rub',\n",
      "       'GOV_REVENUE_ACCUM_SUBFEDERAL_bln_rub',\n",
      "       'GOV_SURPLUS_ACCUM_FEDERAL_bln_rub',\n",
      "       'GOV_SURPLUS_ACCUM_SUBFEDERAL_bln_rub', 'IMPORT_GOODS_bln_usd',\n",
      "       'INDPRO_rog', 'INDPRO_yoy', 'INVESTMENT_bln_rub', 'INVESTMENT_rog',\n",
      "       'INVESTMENT_yoy', 'RETAIL_SALES_bln_rub', 'RETAIL_SALES_FOOD_bln_rub',\n",
      "       'RETAIL_SALES_FOOD_rog', 'RETAIL_SALES_FOOD_yoy',\n",
      "       'RETAIL_SALES_NONFOOD_bln_rub', 'RETAIL_SALES_NONFOOD_rog',\n",
      "       'RETAIL_SALES_NONFOOD_yoy', 'RETAIL_SALES_rog', 'RETAIL_SALES_yoy',\n",
      "       'TRANSPORT_FREIGHT_bln_tkm', 'UNEMPL_pct', 'WAGE_NOMINAL_rub',\n",
      "       'WAGE_REAL_rog', 'WAGE_REAL_yoy'],\n",
      "      dtype='object')\n"
     ]
    }
   ],
   "source": [
    "variable_names_quarterly = get_names('q')\n",
    "ts = get_ts('q', 'GDP_yoy')\n",
    "dfq = get_df('q')    \n",
    "print(dfq.columns)"
   ]
  },
  {
   "cell_type": "markdown",
   "metadata": {},
   "source": [
    "pick some macroeconomic indicators"
   ]
  },
  {
   "cell_type": "code",
   "execution_count": 3,
   "metadata": {
    "collapsed": true
   },
   "outputs": [],
   "source": [
    "need_cols = ['EXPORT_GOODS_bln_usd', 'GDP_bln_rub', \n",
    "       'GOV_EXPENSE_ACCUM_CONSOLIDATED_bln_rub',\n",
    "       'GOV_REVENUE_ACCUM_CONSOLIDATED_bln_rub',\n",
    "       'IMPORT_GOODS_bln_usd',\n",
    "       'INVESTMENT_bln_rub', \n",
    "       'RETAIL_SALES_bln_rub']"
   ]
  },
  {
   "cell_type": "code",
   "execution_count": 4,
   "metadata": {
    "collapsed": true
   },
   "outputs": [],
   "source": [
    "dfq = dfq[need_cols]"
   ]
  },
  {
   "cell_type": "code",
   "execution_count": 5,
   "metadata": {},
   "outputs": [
    {
     "data": {
      "text/html": [
       "<div>\n",
       "<style>\n",
       "    .dataframe thead tr:only-child th {\n",
       "        text-align: right;\n",
       "    }\n",
       "\n",
       "    .dataframe thead th {\n",
       "        text-align: left;\n",
       "    }\n",
       "\n",
       "    .dataframe tbody tr th {\n",
       "        vertical-align: top;\n",
       "    }\n",
       "</style>\n",
       "<table border=\"1\" class=\"dataframe\">\n",
       "  <thead>\n",
       "    <tr style=\"text-align: right;\">\n",
       "      <th></th>\n",
       "      <th>EXPORT_GOODS_bln_usd</th>\n",
       "      <th>GDP_bln_rub</th>\n",
       "      <th>GOV_EXPENSE_ACCUM_CONSOLIDATED_bln_rub</th>\n",
       "      <th>GOV_REVENUE_ACCUM_CONSOLIDATED_bln_rub</th>\n",
       "      <th>IMPORT_GOODS_bln_usd</th>\n",
       "      <th>INVESTMENT_bln_rub</th>\n",
       "      <th>RETAIL_SALES_bln_rub</th>\n",
       "    </tr>\n",
       "  </thead>\n",
       "  <tbody>\n",
       "    <tr>\n",
       "      <th>1999-03-31</th>\n",
       "      <td>15.3</td>\n",
       "      <td>901.0</td>\n",
       "      <td>189.0</td>\n",
       "      <td>171.9</td>\n",
       "      <td>9.1</td>\n",
       "      <td>96.8</td>\n",
       "      <td>379.0</td>\n",
       "    </tr>\n",
       "    <tr>\n",
       "      <th>1999-06-30</th>\n",
       "      <td>17.1</td>\n",
       "      <td>1102.0</td>\n",
       "      <td>486.8</td>\n",
       "      <td>448.6</td>\n",
       "      <td>10.1</td>\n",
       "      <td>131.1</td>\n",
       "      <td>416.5</td>\n",
       "    </tr>\n",
       "    <tr>\n",
       "      <th>1999-09-30</th>\n",
       "      <td>18.9</td>\n",
       "      <td>1373.0</td>\n",
       "      <td>795.8</td>\n",
       "      <td>759.3</td>\n",
       "      <td>9.5</td>\n",
       "      <td>185.6</td>\n",
       "      <td>464.6</td>\n",
       "    </tr>\n",
       "    <tr>\n",
       "      <th>1999-12-31</th>\n",
       "      <td>24.3</td>\n",
       "      <td>1447.0</td>\n",
       "      <td>1258.0</td>\n",
       "      <td>1213.6</td>\n",
       "      <td>10.8</td>\n",
       "      <td>256.9</td>\n",
       "      <td>537.3</td>\n",
       "    </tr>\n",
       "    <tr>\n",
       "      <th>2000-03-31</th>\n",
       "      <td>23.9</td>\n",
       "      <td>1527.0</td>\n",
       "      <td>330.2</td>\n",
       "      <td>366.5</td>\n",
       "      <td>10.0</td>\n",
       "      <td>165.8</td>\n",
       "      <td>517.7</td>\n",
       "    </tr>\n",
       "  </tbody>\n",
       "</table>\n",
       "</div>"
      ],
      "text/plain": [
       "            EXPORT_GOODS_bln_usd  GDP_bln_rub  \\\n",
       "1999-03-31                  15.3        901.0   \n",
       "1999-06-30                  17.1       1102.0   \n",
       "1999-09-30                  18.9       1373.0   \n",
       "1999-12-31                  24.3       1447.0   \n",
       "2000-03-31                  23.9       1527.0   \n",
       "\n",
       "            GOV_EXPENSE_ACCUM_CONSOLIDATED_bln_rub  \\\n",
       "1999-03-31                                   189.0   \n",
       "1999-06-30                                   486.8   \n",
       "1999-09-30                                   795.8   \n",
       "1999-12-31                                  1258.0   \n",
       "2000-03-31                                   330.2   \n",
       "\n",
       "            GOV_REVENUE_ACCUM_CONSOLIDATED_bln_rub  IMPORT_GOODS_bln_usd  \\\n",
       "1999-03-31                                   171.9                   9.1   \n",
       "1999-06-30                                   448.6                  10.1   \n",
       "1999-09-30                                   759.3                   9.5   \n",
       "1999-12-31                                  1213.6                  10.8   \n",
       "2000-03-31                                   366.5                  10.0   \n",
       "\n",
       "            INVESTMENT_bln_rub  RETAIL_SALES_bln_rub  \n",
       "1999-03-31                96.8                 379.0  \n",
       "1999-06-30               131.1                 416.5  \n",
       "1999-09-30               185.6                 464.6  \n",
       "1999-12-31               256.9                 537.3  \n",
       "2000-03-31               165.8                 517.7  "
      ]
     },
     "execution_count": 5,
     "metadata": {},
     "output_type": "execute_result"
    }
   ],
   "source": [
    "dfq.head()"
   ]
  },
  {
   "cell_type": "code",
   "execution_count": 6,
   "metadata": {
    "scrolled": true
   },
   "outputs": [
    {
     "data": {
      "text/html": [
       "<div>\n",
       "<style>\n",
       "    .dataframe thead tr:only-child th {\n",
       "        text-align: right;\n",
       "    }\n",
       "\n",
       "    .dataframe thead th {\n",
       "        text-align: left;\n",
       "    }\n",
       "\n",
       "    .dataframe tbody tr th {\n",
       "        vertical-align: top;\n",
       "    }\n",
       "</style>\n",
       "<table border=\"1\" class=\"dataframe\">\n",
       "  <thead>\n",
       "    <tr style=\"text-align: right;\">\n",
       "      <th></th>\n",
       "      <th>EXPORT_GOODS_bln_usd</th>\n",
       "      <th>GDP_bln_rub</th>\n",
       "      <th>GOV_EXPENSE_ACCUM_CONSOLIDATED_bln_rub</th>\n",
       "      <th>GOV_REVENUE_ACCUM_CONSOLIDATED_bln_rub</th>\n",
       "      <th>IMPORT_GOODS_bln_usd</th>\n",
       "      <th>INVESTMENT_bln_rub</th>\n",
       "      <th>RETAIL_SALES_bln_rub</th>\n",
       "    </tr>\n",
       "  </thead>\n",
       "  <tbody>\n",
       "    <tr>\n",
       "      <th>2016-06-30</th>\n",
       "      <td>67.9</td>\n",
       "      <td>20430.0</td>\n",
       "      <td>13582.9</td>\n",
       "      <td>12521.5</td>\n",
       "      <td>45.6</td>\n",
       "      <td>3153.3</td>\n",
       "      <td>6764.0</td>\n",
       "    </tr>\n",
       "    <tr>\n",
       "      <th>2016-09-30</th>\n",
       "      <td>70.9</td>\n",
       "      <td>22721.0</td>\n",
       "      <td>20493.6</td>\n",
       "      <td>19374.5</td>\n",
       "      <td>52.6</td>\n",
       "      <td>3666.5</td>\n",
       "      <td>7258.1</td>\n",
       "    </tr>\n",
       "    <tr>\n",
       "      <th>2016-12-31</th>\n",
       "      <td>82.6</td>\n",
       "      <td>24077.0</td>\n",
       "      <td>31323.7</td>\n",
       "      <td>28181.5</td>\n",
       "      <td>55.3</td>\n",
       "      <td>5726.5</td>\n",
       "      <td>7798.9</td>\n",
       "    </tr>\n",
       "    <tr>\n",
       "      <th>2017-03-31</th>\n",
       "      <td>82.4</td>\n",
       "      <td>20091.0</td>\n",
       "      <td>6892.4</td>\n",
       "      <td>7036.6</td>\n",
       "      <td>48.0</td>\n",
       "      <td>2202.2</td>\n",
       "      <td>6746.9</td>\n",
       "    </tr>\n",
       "    <tr>\n",
       "      <th>2017-06-30</th>\n",
       "      <td>83.8</td>\n",
       "      <td>NaN</td>\n",
       "      <td>14443.0</td>\n",
       "      <td>14507.5</td>\n",
       "      <td>58.6</td>\n",
       "      <td>3521.5</td>\n",
       "      <td>7129.1</td>\n",
       "    </tr>\n",
       "  </tbody>\n",
       "</table>\n",
       "</div>"
      ],
      "text/plain": [
       "            EXPORT_GOODS_bln_usd  GDP_bln_rub  \\\n",
       "2016-06-30                  67.9      20430.0   \n",
       "2016-09-30                  70.9      22721.0   \n",
       "2016-12-31                  82.6      24077.0   \n",
       "2017-03-31                  82.4      20091.0   \n",
       "2017-06-30                  83.8          NaN   \n",
       "\n",
       "            GOV_EXPENSE_ACCUM_CONSOLIDATED_bln_rub  \\\n",
       "2016-06-30                                 13582.9   \n",
       "2016-09-30                                 20493.6   \n",
       "2016-12-31                                 31323.7   \n",
       "2017-03-31                                  6892.4   \n",
       "2017-06-30                                 14443.0   \n",
       "\n",
       "            GOV_REVENUE_ACCUM_CONSOLIDATED_bln_rub  IMPORT_GOODS_bln_usd  \\\n",
       "2016-06-30                                 12521.5                  45.6   \n",
       "2016-09-30                                 19374.5                  52.6   \n",
       "2016-12-31                                 28181.5                  55.3   \n",
       "2017-03-31                                  7036.6                  48.0   \n",
       "2017-06-30                                 14507.5                  58.6   \n",
       "\n",
       "            INVESTMENT_bln_rub  RETAIL_SALES_bln_rub  \n",
       "2016-06-30              3153.3                6764.0  \n",
       "2016-09-30              3666.5                7258.1  \n",
       "2016-12-31              5726.5                7798.9  \n",
       "2017-03-31              2202.2                6746.9  \n",
       "2017-06-30              3521.5                7129.1  "
      ]
     },
     "execution_count": 6,
     "metadata": {},
     "output_type": "execute_result"
    }
   ],
   "source": [
    "dfq.tail()"
   ]
  },
  {
   "cell_type": "markdown",
   "metadata": {},
   "source": [
    "setting datetime index"
   ]
  },
  {
   "cell_type": "code",
   "execution_count": 7,
   "metadata": {
    "collapsed": true
   },
   "outputs": [],
   "source": [
    "index = pd.DatetimeIndex(start='1999Q1', end='2017Q3', freq='Q')"
   ]
  },
  {
   "cell_type": "code",
   "execution_count": 8,
   "metadata": {
    "collapsed": true
   },
   "outputs": [],
   "source": [
    "dfq.set_index(index, inplace = True)"
   ]
  },
  {
   "cell_type": "code",
   "execution_count": 9,
   "metadata": {
    "scrolled": true
   },
   "outputs": [
    {
     "data": {
      "text/html": [
       "<div>\n",
       "<style>\n",
       "    .dataframe thead tr:only-child th {\n",
       "        text-align: right;\n",
       "    }\n",
       "\n",
       "    .dataframe thead th {\n",
       "        text-align: left;\n",
       "    }\n",
       "\n",
       "    .dataframe tbody tr th {\n",
       "        vertical-align: top;\n",
       "    }\n",
       "</style>\n",
       "<table border=\"1\" class=\"dataframe\">\n",
       "  <thead>\n",
       "    <tr style=\"text-align: right;\">\n",
       "      <th></th>\n",
       "      <th>EXPORT_GOODS_bln_usd</th>\n",
       "      <th>GDP_bln_rub</th>\n",
       "      <th>GOV_EXPENSE_ACCUM_CONSOLIDATED_bln_rub</th>\n",
       "      <th>GOV_REVENUE_ACCUM_CONSOLIDATED_bln_rub</th>\n",
       "      <th>IMPORT_GOODS_bln_usd</th>\n",
       "      <th>INVESTMENT_bln_rub</th>\n",
       "      <th>RETAIL_SALES_bln_rub</th>\n",
       "    </tr>\n",
       "  </thead>\n",
       "  <tbody>\n",
       "    <tr>\n",
       "      <th>1999-03-31</th>\n",
       "      <td>15.3</td>\n",
       "      <td>901.0</td>\n",
       "      <td>189.0</td>\n",
       "      <td>171.9</td>\n",
       "      <td>9.1</td>\n",
       "      <td>96.8</td>\n",
       "      <td>379.0</td>\n",
       "    </tr>\n",
       "    <tr>\n",
       "      <th>1999-06-30</th>\n",
       "      <td>17.1</td>\n",
       "      <td>1102.0</td>\n",
       "      <td>486.8</td>\n",
       "      <td>448.6</td>\n",
       "      <td>10.1</td>\n",
       "      <td>131.1</td>\n",
       "      <td>416.5</td>\n",
       "    </tr>\n",
       "    <tr>\n",
       "      <th>1999-09-30</th>\n",
       "      <td>18.9</td>\n",
       "      <td>1373.0</td>\n",
       "      <td>795.8</td>\n",
       "      <td>759.3</td>\n",
       "      <td>9.5</td>\n",
       "      <td>185.6</td>\n",
       "      <td>464.6</td>\n",
       "    </tr>\n",
       "    <tr>\n",
       "      <th>1999-12-31</th>\n",
       "      <td>24.3</td>\n",
       "      <td>1447.0</td>\n",
       "      <td>1258.0</td>\n",
       "      <td>1213.6</td>\n",
       "      <td>10.8</td>\n",
       "      <td>256.9</td>\n",
       "      <td>537.3</td>\n",
       "    </tr>\n",
       "    <tr>\n",
       "      <th>2000-03-31</th>\n",
       "      <td>23.9</td>\n",
       "      <td>1527.0</td>\n",
       "      <td>330.2</td>\n",
       "      <td>366.5</td>\n",
       "      <td>10.0</td>\n",
       "      <td>165.8</td>\n",
       "      <td>517.7</td>\n",
       "    </tr>\n",
       "  </tbody>\n",
       "</table>\n",
       "</div>"
      ],
      "text/plain": [
       "            EXPORT_GOODS_bln_usd  GDP_bln_rub  \\\n",
       "1999-03-31                  15.3        901.0   \n",
       "1999-06-30                  17.1       1102.0   \n",
       "1999-09-30                  18.9       1373.0   \n",
       "1999-12-31                  24.3       1447.0   \n",
       "2000-03-31                  23.9       1527.0   \n",
       "\n",
       "            GOV_EXPENSE_ACCUM_CONSOLIDATED_bln_rub  \\\n",
       "1999-03-31                                   189.0   \n",
       "1999-06-30                                   486.8   \n",
       "1999-09-30                                   795.8   \n",
       "1999-12-31                                  1258.0   \n",
       "2000-03-31                                   330.2   \n",
       "\n",
       "            GOV_REVENUE_ACCUM_CONSOLIDATED_bln_rub  IMPORT_GOODS_bln_usd  \\\n",
       "1999-03-31                                   171.9                   9.1   \n",
       "1999-06-30                                   448.6                  10.1   \n",
       "1999-09-30                                   759.3                   9.5   \n",
       "1999-12-31                                  1213.6                  10.8   \n",
       "2000-03-31                                   366.5                  10.0   \n",
       "\n",
       "            INVESTMENT_bln_rub  RETAIL_SALES_bln_rub  \n",
       "1999-03-31                96.8                 379.0  \n",
       "1999-06-30               131.1                 416.5  \n",
       "1999-09-30               185.6                 464.6  \n",
       "1999-12-31               256.9                 537.3  \n",
       "2000-03-31               165.8                 517.7  "
      ]
     },
     "execution_count": 9,
     "metadata": {},
     "output_type": "execute_result"
    }
   ],
   "source": [
    "dfq.head()"
   ]
  },
  {
   "cell_type": "code",
   "execution_count": 43,
   "metadata": {},
   "outputs": [
    {
     "data": {
      "text/html": [
       "<div>\n",
       "<style>\n",
       "    .dataframe thead tr:only-child th {\n",
       "        text-align: right;\n",
       "    }\n",
       "\n",
       "    .dataframe thead th {\n",
       "        text-align: left;\n",
       "    }\n",
       "\n",
       "    .dataframe tbody tr th {\n",
       "        vertical-align: top;\n",
       "    }\n",
       "</style>\n",
       "<table border=\"1\" class=\"dataframe\">\n",
       "  <thead>\n",
       "    <tr style=\"text-align: right;\">\n",
       "      <th></th>\n",
       "      <th>EXPORT_GOODS_bln_usd</th>\n",
       "      <th>GDP_bln_rub</th>\n",
       "      <th>GOV_EXPENSE_ACCUM_CONSOLIDATED_bln_rub</th>\n",
       "      <th>GOV_REVENUE_ACCUM_CONSOLIDATED_bln_rub</th>\n",
       "      <th>IMPORT_GOODS_bln_usd</th>\n",
       "      <th>INVESTMENT_bln_rub</th>\n",
       "      <th>RETAIL_SALES_bln_rub</th>\n",
       "    </tr>\n",
       "  </thead>\n",
       "  <tbody>\n",
       "    <tr>\n",
       "      <th>2016-06-30</th>\n",
       "      <td>67.9</td>\n",
       "      <td>20430.0</td>\n",
       "      <td>13582.9</td>\n",
       "      <td>12521.5</td>\n",
       "      <td>45.6</td>\n",
       "      <td>3153.3</td>\n",
       "      <td>6764.0</td>\n",
       "    </tr>\n",
       "    <tr>\n",
       "      <th>2016-09-30</th>\n",
       "      <td>70.9</td>\n",
       "      <td>22721.0</td>\n",
       "      <td>20493.6</td>\n",
       "      <td>19374.5</td>\n",
       "      <td>52.6</td>\n",
       "      <td>3666.5</td>\n",
       "      <td>7258.1</td>\n",
       "    </tr>\n",
       "    <tr>\n",
       "      <th>2016-12-31</th>\n",
       "      <td>82.6</td>\n",
       "      <td>24077.0</td>\n",
       "      <td>31323.7</td>\n",
       "      <td>28181.5</td>\n",
       "      <td>55.3</td>\n",
       "      <td>5726.5</td>\n",
       "      <td>7798.9</td>\n",
       "    </tr>\n",
       "    <tr>\n",
       "      <th>2017-03-31</th>\n",
       "      <td>82.4</td>\n",
       "      <td>20091.0</td>\n",
       "      <td>6892.4</td>\n",
       "      <td>7036.6</td>\n",
       "      <td>48.0</td>\n",
       "      <td>2202.2</td>\n",
       "      <td>6746.9</td>\n",
       "    </tr>\n",
       "    <tr>\n",
       "      <th>2017-06-30</th>\n",
       "      <td>83.8</td>\n",
       "      <td>NaN</td>\n",
       "      <td>14443.0</td>\n",
       "      <td>14507.5</td>\n",
       "      <td>58.6</td>\n",
       "      <td>3521.5</td>\n",
       "      <td>7129.1</td>\n",
       "    </tr>\n",
       "  </tbody>\n",
       "</table>\n",
       "</div>"
      ],
      "text/plain": [
       "            EXPORT_GOODS_bln_usd  GDP_bln_rub  \\\n",
       "2016-06-30                  67.9      20430.0   \n",
       "2016-09-30                  70.9      22721.0   \n",
       "2016-12-31                  82.6      24077.0   \n",
       "2017-03-31                  82.4      20091.0   \n",
       "2017-06-30                  83.8          NaN   \n",
       "\n",
       "            GOV_EXPENSE_ACCUM_CONSOLIDATED_bln_rub  \\\n",
       "2016-06-30                                 13582.9   \n",
       "2016-09-30                                 20493.6   \n",
       "2016-12-31                                 31323.7   \n",
       "2017-03-31                                  6892.4   \n",
       "2017-06-30                                 14443.0   \n",
       "\n",
       "            GOV_REVENUE_ACCUM_CONSOLIDATED_bln_rub  IMPORT_GOODS_bln_usd  \\\n",
       "2016-06-30                                 12521.5                  45.6   \n",
       "2016-09-30                                 19374.5                  52.6   \n",
       "2016-12-31                                 28181.5                  55.3   \n",
       "2017-03-31                                  7036.6                  48.0   \n",
       "2017-06-30                                 14507.5                  58.6   \n",
       "\n",
       "            INVESTMENT_bln_rub  RETAIL_SALES_bln_rub  \n",
       "2016-06-30              3153.3                6764.0  \n",
       "2016-09-30              3666.5                7258.1  \n",
       "2016-12-31              5726.5                7798.9  \n",
       "2017-03-31              2202.2                6746.9  \n",
       "2017-06-30              3521.5                7129.1  "
      ]
     },
     "execution_count": 43,
     "metadata": {},
     "output_type": "execute_result"
    }
   ],
   "source": [
    "dfq.tail()"
   ]
  },
  {
   "cell_type": "markdown",
   "metadata": {
    "scrolled": false
   },
   "source": [
    "drop last observation (nan value)"
   ]
  },
  {
   "cell_type": "code",
   "execution_count": 10,
   "metadata": {
    "collapsed": true
   },
   "outputs": [],
   "source": [
    "gdp = dfq.GDP_bln_rub[:'2017-03-31']"
   ]
  },
  {
   "cell_type": "code",
   "execution_count": 11,
   "metadata": {
    "scrolled": true
   },
   "outputs": [
    {
     "name": "stderr",
     "output_type": "stream",
     "text": [
      "C:\\Users\\User3\\Anaconda3\\lib\\site-packages\\statsmodels\\compat\\pandas.py:56: FutureWarning: The pandas.core.datetools module is deprecated and will be removed in a future version. Please use the pandas.tseries module instead.\n",
      "  from pandas.core import datetools\n"
     ]
    }
   ],
   "source": [
    "import statsmodels.api as sm\n"
   ]
  },
  {
   "cell_type": "markdown",
   "metadata": {},
   "source": [
    "decomposing series using HP filter"
   ]
  },
  {
   "cell_type": "code",
   "execution_count": 12,
   "metadata": {
    "collapsed": true
   },
   "outputs": [],
   "source": [
    "cycle, trend = sm.tsa.filters.hpfilter(gdp, 1600)"
   ]
  },
  {
   "cell_type": "markdown",
   "metadata": {},
   "source": [
    "calculating average deviation from trend"
   ]
  },
  {
   "cell_type": "code",
   "execution_count": 13,
   "metadata": {
    "collapsed": true
   },
   "outputs": [],
   "source": [
    "import numpy as np\n",
    "std_ = np.mean(abs(100 - trend/gdp * 100))"
   ]
  },
  {
   "cell_type": "markdown",
   "metadata": {
    "collapsed": true
   },
   "source": [
    "plotting std_ and real valu"
   ]
  },
  {
   "cell_type": "code",
   "execution_count": 14,
   "metadata": {},
   "outputs": [
    {
     "data": {
      "text/plain": [
       "<matplotlib.axes._subplots.AxesSubplot at 0x1bfb59b0>"
      ]
     },
     "execution_count": 14,
     "metadata": {},
     "output_type": "execute_result"
    },
    {
     "data": {
      "image/png": "[encoded data removed]",
      "text/plain": [
       "<matplotlib.figure.Figure at 0x19f5cac8>"
      ]
     },
     "metadata": {},
     "output_type": "display_data"
    }
   ],
   "source": [
    "%matplotlib inline\n",
    "fig, ax = plt.subplots()\n",
    "\n",
    "gdp.plot(ax=ax, fontsize=16)\n",
    "trend.plot(ax=ax, fontsize=16)\n"
   ]
  },
  {
   "cell_type": "markdown",
   "metadata": {
    "collapsed": true
   },
   "source": [
    "function for crosscorrelation with lags"
   ]
  },
  {
   "cell_type": "code",
   "execution_count": 41,
   "metadata": {},
   "outputs": [],
   "source": [
    "def crosscorr(datax, datay):\n",
    "    \n",
    "    return \"{0:.2f}\".format(datax.corr(datay.shift(-1))), \"{0:.2f}\".format(datax.corr(datay)), \"{0:.2f}\".format(datax.corr(datay.shift(1)))"
   ]
  },
  {
   "cell_type": "code",
   "execution_count": 42,
   "metadata": {},
   "outputs": [
    {
     "data": {
      "text/plain": [
       "('0.98', '1.00', '0.98')"
      ]
     },
     "execution_count": 42,
     "metadata": {},
     "output_type": "execute_result"
    }
   ],
   "source": [
    "crosscorr(gdp, gdp)"
   ]
  },
  {
   "cell_type": "markdown",
   "metadata": {
    "collapsed": true
   },
   "source": [
    "function to calculate deviation from trend"
   ]
  },
  {
   "cell_type": "code",
   "execution_count": 44,
   "metadata": {
    "collapsed": true
   },
   "outputs": [],
   "source": [
    "def deviation(var):\n",
    "    cycle, trend = sm.tsa.filters.hpfilter(var, 1600)\n",
    "    std_ = np.mean(abs(100 - trend/var * 100))\n",
    "    return \"{0:.1f}\".format(std_)"
   ]
  },
  {
   "cell_type": "code",
   "execution_count": 45,
   "metadata": {},
   "outputs": [
    {
     "data": {
      "text/plain": [
       "'7.4'"
      ]
     },
     "execution_count": 45,
     "metadata": {},
     "output_type": "execute_result"
    }
   ],
   "source": [
    "deviation(gdp)"
   ]
  },
  {
   "cell_type": "code",
   "execution_count": null,
   "metadata": {
    "collapsed": true
   },
   "outputs": [],
   "source": []
  }
 ],
 "metadata": {
  "kernelspec": {
   "display_name": "Python 3",
   "language": "python",
   "name": "python3"
  },
  "language_info": {
   "codemirror_mode": {
    "name": "ipython",
    "version": 3
   },
   "file_extension": ".py",
   "mimetype": "text/x-python",
   "name": "python",
   "nbconvert_exporter": "python",
   "pygments_lexer": "ipython3",
   "version": "3.6.1"
  }
 },
 "nbformat": 4,
 "nbformat_minor": 2
}
